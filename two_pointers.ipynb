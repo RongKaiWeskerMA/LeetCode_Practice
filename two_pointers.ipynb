{
 "cells": [
  {
   "cell_type": "markdown",
   "metadata": {},
   "source": [
    "# Max Water Container\n",
    "\n",
    "You are given a ninterger array *heights* where `heights[i]` represents the ehight of the $i^{th}$ bar.\n",
    "\n",
    "You may choose any two bars to form a container. Return the *maximum* amount of water of a container can store.\n",
    "\n",
    "<img src=\"figs/max_water.png\" alt=\"isolated\" width=\"600\"/>"
   ]
  },
  {
   "cell_type": "markdown",
   "metadata": {},
   "source": [
    "The most important step to solve this problem is to derive the formula to compute the area. \n",
    "\n",
    "For exmample, the left and right pointers are indicated by `l` and `r` respectively. And minimum height of `heights[l]` and `heights[r]` can be calculated as: \n",
    "\n",
    "`min(heights[l], heights[r])`. Consequently, the area can be computed by \n",
    "\n",
    "```python\n",
    "area = (r - l) * min(heights[l], heights[r]) \n",
    "```\n",
    "We also need a variable `maxarea` to keep the track of maximum amount of water store. However, the most difficult step is to come up with a rule to move the pointers.\n",
    "\n",
    "To achieve so, we can initially set the `l` at the beginning of the `heights` array/list and `r` at the end (index) of `heights`.\n",
    "\n",
    "The rule to upate update these two pointers can be \n",
    "\n",
    "* move the left pointer 1 step to the right if `heights[l] < heights[r]`\n",
    "* move the right pointer 1 step to the left if `heights[r]< heights[l]`\n",
    "* move left or right pointer 1 step to the right or left if `heights[l] == heights[r]` (In this case, I move the left pointer).\n",
    "\n",
    "The code is pretty straight forward:"
   ]
  },
  {
   "cell_type": "code",
   "execution_count": 1,
   "metadata": {},
   "outputs": [
    {
     "data": {
      "text/plain": [
       "36"
      ]
     },
     "execution_count": 1,
     "metadata": {},
     "output_type": "execute_result"
    }
   ],
   "source": [
    "def maxArea(heights):\n",
    "    maxarea = 0\n",
    "    l, r = 0, len(heights) - 1\n",
    "\n",
    "    while l < r:\n",
    "        area = (r - l) * min(heights[l], heights[r])\n",
    "        maxarea = max(area, maxarea)\n",
    "\n",
    "        if heights[l] < heights[r]:\n",
    "            l += 1\n",
    "        elif heights[l] > heights[r]:\n",
    "            r -= 1\n",
    "        else:\n",
    "            l += 1\n",
    "    \n",
    "    return maxarea\n",
    "\n",
    "height = [1,7,2,5,4,7,3,6]\n",
    "maxarea = maxArea(height)\n",
    "maxarea\n"
   ]
  },
  {
   "cell_type": "markdown",
   "metadata": {},
   "source": [
    "# Trapping Rain Water\n",
    "\n",
    "You are given an array non-negative integers `heights` which represent an elevation map. Each value `heights[i]` represents the height of a bar, which has a width of `1`.\n",
    "\n",
    "Return the maximum area of water that can be trapped between the bars.\n",
    "\n",
    "<img src=\"figs/trap_water.png\" alt=\"isolated\" width=\"600\"/>"
   ]
  },
  {
   "cell_type": "markdown",
   "metadata": {},
   "source": [
    "This problem looks pretty much similar to the previous problem. However, the different is that the width of the bar is `1` compared to `0` of the previous one.\n",
    "\n",
    "The tricky part of this problem is to come up with \n",
    "1. A formula to compute the amount of trapped water \n",
    "2. The update rule.\n",
    "\n",
    "Let's, try to answer the first question step by step.\n",
    "\n",
    "Let's follow the rule of thum of the two-pointer problems and define left pointer as `l` where it starts from index `0` and right pointer `r` from index `len(height) - 1`.\n",
    "Then to compute the trapped water, we need to define two variables `lmax` and `rmax` to keep the track of the maximum value of the left and right bars. Then the trapped water can be computed as\n",
    "\n",
    "```python\n",
    "lmax - height[l]\n",
    "```\n",
    "during the udpate of `l`\n",
    "\n",
    "or\n",
    "```python\n",
    "rmax - height[r]\n",
    "```\n",
    "during the update of `r` \n",
    "\n",
    "The update rule can be simply set as \n",
    "\n",
    "`l += 1` if `lmax < rmax` and vice-versa.\n",
    "\n",
    "\n",
    "Consequently, the implementation is:\n"
   ]
  },
  {
   "cell_type": "code",
   "execution_count": null,
   "metadata": {},
   "outputs": [],
   "source": [
    "def trap(height):\n",
    "    l, r = 0, len(height) - 1\n",
    "    lmax, rmax = height[l], height[r]\n",
    "    tw = 0\n",
    "\n",
    "    while l < r:\n",
    "        if lmax < rmax:\n",
    "            l += 1\n",
    "            lmax = max(height[l], lmax)\n",
    "            tw += lmax - height[l]\n",
    "        else:\n",
    "            r -= 1\n",
    "            rmax = max(height[r], rmax)\n",
    "            tw += rmax - height[r]\n",
    "\n",
    "    return tw"
   ]
  }
 ],
 "metadata": {
  "kernelspec": {
   "display_name": "lora",
   "language": "python",
   "name": "python3"
  },
  "language_info": {
   "codemirror_mode": {
    "name": "ipython",
    "version": 3
   },
   "file_extension": ".py",
   "mimetype": "text/x-python",
   "name": "python",
   "nbconvert_exporter": "python",
   "pygments_lexer": "ipython3",
   "version": "3.11.8"
  }
 },
 "nbformat": 4,
 "nbformat_minor": 2
}
