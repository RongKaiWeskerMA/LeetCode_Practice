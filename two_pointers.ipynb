{
 "cells": [
  {
   "cell_type": "markdown",
   "metadata": {},
   "source": [
    "# Max Water Container\n",
    "\n",
    "You are given a ninterger array *heights* where `heights[i]` represents the ehight of the $i^{th}$ bar.\n",
    "\n",
    "You may choose any two bars to form a container. Return the *maximum* amount of water of a container can store.\n",
    "\n",
    "<img src=\"figs/max_water.png\" alt=\"isolated\" width=\"600\"/>"
   ]
  },
  {
   "cell_type": "markdown",
   "metadata": {},
   "source": [
    "The most important step to solve this problem is to derive the formula to compute the area. \n",
    "\n",
    "For exmample, the left and right pointers are indicated by `l` and `r` respectively. And minimum height of `heights[l]` and `heights[r]` can be calculated as: \n",
    "\n",
    "`min(heights[l], heights[r])`. Consequently, the area can be computed by \n",
    "\n",
    "```python\n",
    "area = (r - l) * min(heights[l], heights[r]) \n",
    "```\n",
    "We also need a variable `maxarea` to keep the track of maximum amount of water store. However, the most difficult step is to come up with a rule to move the pointers.\n",
    "\n",
    "To achieve so, we can initially set the `l` at the beginning of the `heights` array/list and `r` at the end (index) of `heights`.\n",
    "\n",
    "The rule to upate update these two pointers can be \n",
    "\n",
    "* move the left pointer 1 step to the right if `heights[l] < heights[r]`\n",
    "* move the right pointer 1 step to the left if `heights[r]< heights[l]`\n",
    "* move left or right pointer 1 step to the right or left if `heights[l] == heights[r]` (In this case, I move the left pointer).\n",
    "\n",
    "The code is pretty straight forward:"
   ]
  },
  {
   "cell_type": "code",
   "execution_count": 1,
   "metadata": {},
   "outputs": [
    {
     "data": {
      "text/plain": [
       "36"
      ]
     },
     "execution_count": 1,
     "metadata": {},
     "output_type": "execute_result"
    }
   ],
   "source": [
    "def maxArea(heights):\n",
    "    maxarea = 0\n",
    "    l, r = 0, len(heights) - 1\n",
    "\n",
    "    while l < r:\n",
    "        area = (r - l) * min(heights[l], heights[r])\n",
    "        maxarea = max(area, maxarea)\n",
    "\n",
    "        if heights[l] < heights[r]:\n",
    "            l += 1\n",
    "        elif heights[l] > heights[r]:\n",
    "            r -= 1\n",
    "        else:\n",
    "            l += 1\n",
    "    \n",
    "    return maxarea\n",
    "\n",
    "height = [1,7,2,5,4,7,3,6]\n",
    "maxarea = maxArea(height)\n",
    "maxarea\n"
   ]
  }
 ],
 "metadata": {
  "kernelspec": {
   "display_name": "lora",
   "language": "python",
   "name": "python3"
  },
  "language_info": {
   "codemirror_mode": {
    "name": "ipython",
    "version": 3
   },
   "file_extension": ".py",
   "mimetype": "text/x-python",
   "name": "python",
   "nbconvert_exporter": "python",
   "pygments_lexer": "ipython3",
   "version": "3.11.8"
  }
 },
 "nbformat": 4,
 "nbformat_minor": 2
}
