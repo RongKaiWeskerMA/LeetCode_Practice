{
 "cells": [
  {
   "cell_type": "markdown",
   "metadata": {},
   "source": [
    "# Buy and Sell Crypto\n",
    "\n",
    "You are given any integer array `prices` where `prices[i]` is the price of BitCoin on the `ith` day. \n",
    "\n",
    "You may choose a **single day** to buy one Bitcoin and choose a **different day in the future** to sell it.\n",
    "\n",
    "Return the maximum profit you can achieve. You may choose to **not make any transactions**, in which case the profit would be `0`."
   ]
  },
  {
   "cell_type": "markdown",
   "metadata": {},
   "source": [
    "## Thought Process and Solution\n"
   ]
  },
  {
   "cell_type": "markdown",
   "metadata": {},
   "source": [
    "The brute-force solution of this problem is pick any two elements from array `prices` which is $C {n \\choose 2}$. The time complexity of this solution is $n^2$.\n",
    "Of course, this solution is not optimal.\n",
    "\n",
    "The optimal solution is linear time complexity $O(n)$, where we maintain two pointers (left `l` and right `r`). We initialize these two pointers as 0, 1. We keep increasing `r` while keep `l` static unless we find a smaller value than current `l` and we move `l` to `r`. \n",
    "\n",
    "This guarantees that if there is a trend of decreasing we move the left pointer to the current right pointer\n",
    "\n",
    "This logic is pretty straight forward to implement.\n"
   ]
  },
  {
   "cell_type": "code",
   "execution_count": 1,
   "metadata": {},
   "outputs": [
    {
     "data": {
      "text/plain": [
       "6"
      ]
     },
     "execution_count": 1,
     "metadata": {},
     "output_type": "execute_result"
    }
   ],
   "source": [
    "def maxProfit(prices):\n",
    "        l,r = 0, 1\n",
    "        max_profit = 0\n",
    "        while r <= len(prices) - 1:\n",
    "            if prices[l] >= prices[r]:\n",
    "                l = r\n",
    "                r += 1\n",
    "            else:\n",
    "                profit = prices[r] - prices[l]\n",
    "                max_profit = max(profit, max_profit)\n",
    "                r += 1\n",
    "        return max_profit\n",
    "\n",
    "prices = [10,1,5,6,7,1]\n",
    "max_profit = maxProfit(prices)\n",
    "max_profit"
   ]
  }
 ],
 "metadata": {
  "kernelspec": {
   "display_name": "lora",
   "language": "python",
   "name": "python3"
  },
  "language_info": {
   "codemirror_mode": {
    "name": "ipython",
    "version": 3
   },
   "file_extension": ".py",
   "mimetype": "text/x-python",
   "name": "python",
   "nbconvert_exporter": "python",
   "pygments_lexer": "ipython3",
   "version": "3.11.8"
  }
 },
 "nbformat": 4,
 "nbformat_minor": 2
}
