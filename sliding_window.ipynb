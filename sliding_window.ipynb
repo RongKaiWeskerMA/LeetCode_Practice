{
 "cells": [
  {
   "cell_type": "markdown",
   "metadata": {},
   "source": [
    "# Buy and Sell Crypto\n",
    "\n",
    "You are given any integer array `prices` where `prices[i]` is the price of BitCoin on the `ith` day. \n",
    "\n",
    "You may choose a **single day** to buy one Bitcoin and choose a **different day in the future** to sell it.\n",
    "\n",
    "Return the maximum profit you can achieve. You may choose to **not make any transactions**, in which case the profit would be `0`."
   ]
  },
  {
   "cell_type": "markdown",
   "metadata": {},
   "source": [
    "## Thought Process and Solution\n"
   ]
  },
  {
   "cell_type": "markdown",
   "metadata": {},
   "source": [
    "The brute-force solution of this problem is pick any two elements from array `prices` which is $C {n \\choose 2}$. The time complexity of this solution is $n^2$.\n",
    "Of course, this solution is not optimal.\n",
    "\n",
    "The optimal solution is linear time complexity $O(n)$, where we maintain two pointers (left `l` and right `r`). We initialize these two pointers as 0, 1. We keep increasing `r` while keep `l` static unless we find a smaller value than current `l` and we move `l` to `r`. \n",
    "\n",
    "This guarantees that if there is a trend of decreasing we move the left pointer to the current right pointer\n",
    "\n",
    "This logic is pretty straight forward to implement.\n"
   ]
  },
  {
   "cell_type": "code",
   "execution_count": 1,
   "metadata": {},
   "outputs": [
    {
     "data": {
      "text/plain": [
       "6"
      ]
     },
     "execution_count": 1,
     "metadata": {},
     "output_type": "execute_result"
    }
   ],
   "source": [
    "def maxProfit(prices):\n",
    "        l,r = 0, 1\n",
    "        max_profit = 0\n",
    "        while r <= len(prices) - 1:\n",
    "            if prices[l] >= prices[r]:\n",
    "                l = r\n",
    "                r += 1\n",
    "            else:\n",
    "                profit = prices[r] - prices[l]\n",
    "                max_profit = max(profit, max_profit)\n",
    "                r += 1\n",
    "        return max_profit\n",
    "\n",
    "prices = [10,1,5,6,7,1]\n",
    "max_profit = maxProfit(prices)\n",
    "max_profit"
   ]
  },
  {
   "cell_type": "markdown",
   "metadata": {},
   "source": [
    "# Longest Substring without Duplicates\n",
    "\n",
    "Given a string `s`, find the *length* of the *longest* substring without duplicate characters.\n",
    "\n",
    "A **substring** is a contiguous sequence of characters within a string."
   ]
  },
  {
   "cell_type": "markdown",
   "metadata": {},
   "source": []
  },
  {
   "cell_type": "code",
   "execution_count": null,
   "metadata": {},
   "outputs": [],
   "source": [
    "def lengthOfLongestSubstring(s):\n",
    "        charset = set()\n",
    "        max_len = 0\n",
    "        l = 0\n",
    "\n",
    "        for r in range(len(s)):\n",
    "            while s[r] in charset:\n",
    "                charset.remove(s[l])\n",
    "                l += 1\n",
    "            charset.add(s[r])\n",
    "            max_len = max(max_len, r - l + 1)\n",
    "        \n",
    "        return max_len"
   ]
  },
  {
   "cell_type": "markdown",
   "metadata": {},
   "source": [
    "# Longest repeating Substring with Replacement\n",
    "\n",
    "You are given a string `s` consisting of only uppercase english characters and integer `k`. You can choose up to `k` characters of the string and replace them with any other uppercase English character. \n",
    "\n",
    "After performing at most `k` replacements, return the length of the longest substring  which contains only one distinct character."
   ]
  },
  {
   "cell_type": "markdown",
   "metadata": {},
   "source": [
    "## Thought Process \n",
    "The solution of this problem is pretty much similar to the previous one. We need to main two pointers `l` and `r`. \n",
    "\n",
    "We constantly increase `r` in a `for` loop while we count the character. Notably, we need to maintain a variable to check the most repeating character. In this case, I use `maxf` to denote. \n",
    "\n",
    "The core part of this problem is to update the left pointer `l`.\n",
    "The only situation where we move `l` is when we run out of `k`. Please keep it in mind that when we move `l` we have to decrease `count[l]` by `1`. \n",
    "Because we are increase the `r` constantly and move `l` when we run out of `k`；as such, we are preserving the largest repeating substring (This is the core part). After we figure out the above logic, the implementation is **VERY** straightforward.\n",
    "\n"
   ]
  },
  {
   "cell_type": "code",
   "execution_count": 3,
   "metadata": {},
   "outputs": [
    {
     "data": {
      "text/plain": [
       "5"
      ]
     },
     "execution_count": 3,
     "metadata": {},
     "output_type": "execute_result"
    }
   ],
   "source": [
    "def characterReplacement(s, k):\n",
    "    count = {}\n",
    "    maxf = 0\n",
    "    l = 0 \n",
    "\n",
    "    for r in range(len(s)):\n",
    "        count[s[r]] = 1 + count.get(s[r], 0)\n",
    "        maxf = max(maxf, count[s[r]])\n",
    "\n",
    "        if (r - l + 1) - maxf > k:\n",
    "            count[s[l]] -= 1\n",
    "            l += 1\n",
    "    \n",
    "    return r - l + 1\n",
    "\n",
    "s =  \"AAABABB\"\n",
    "k = 1\n",
    "res = characterReplacement(s, k)\n",
    "res"
   ]
  }
 ],
 "metadata": {
  "kernelspec": {
   "display_name": "lora",
   "language": "python",
   "name": "python3"
  },
  "language_info": {
   "codemirror_mode": {
    "name": "ipython",
    "version": 3
   },
   "file_extension": ".py",
   "mimetype": "text/x-python",
   "name": "python",
   "nbconvert_exporter": "python",
   "pygments_lexer": "ipython3",
   "version": "3.11.8"
  }
 },
 "nbformat": 4,
 "nbformat_minor": 2
}
