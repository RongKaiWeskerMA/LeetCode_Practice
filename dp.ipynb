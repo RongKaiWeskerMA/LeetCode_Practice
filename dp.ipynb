{
 "cells": [
  {
   "cell_type": "markdown",
   "metadata": {},
   "source": [
    "# 256 Paint House\n",
    "There is a row of *n* houses, where each house can be painted one of three colors: red, blue, or green. The cost of paiting each house with a certain color is different. You have to paint all the houses such that no two adjacent house have the same color.\n",
    "\n",
    "The cost of paiting each house with a certain color is represented by an *n x 3* cost matrix costs.\n",
    "- For example, costs[0][0] is the cost of paiting house 0 with the color red; costs[1][2] is the cost of painting house 1 with color green, and so on ...\n",
    "\n",
    "Return the minimum of cost to paint all houses.\n"
   ]
  },
  {
   "cell_type": "markdown",
   "metadata": {},
   "source": [
    "This following method is drawn from [Neetcode solution](https://www.youtube.com/watch?v=-w67-4tnH5U). I just summarize it and make it easier for me to revise.\n",
    "\n",
    "Let's fill a 2D dynamic programming table from top left to bottom right with the example below.\n",
    "\n",
    "| House/Color | r     | g     | b     |\n",
    "|:-----------:|:-----:|:-----:|:-----:|\n",
    "|     0       |  17   |  2    |  17   |\n",
    "|     1       |  18 (16+2)   |  33 (16+17)   |   7 (5 + 2)   |\n",
    "|     2       |  21 (14+17)  |  10 (3+7)   |  37 (19 + 18)   |\n",
    "\n",
    "\n",
    "So The minimum cost is 10"
   ]
  },
  {
   "cell_type": "code",
   "execution_count": 13,
   "metadata": {},
   "outputs": [
    {
     "name": "stdout",
     "output_type": "stream",
     "text": [
      "10\n"
     ]
    }
   ],
   "source": [
    "from typing import List\n",
    "\n",
    "costs = [[17, 2, 17], [16, 16, 5], [14, 3, 19]]\n",
    "\n",
    "def minCost(cost: List[List[int]]) -> int:\n",
    "    dp = [0, 0, 0]\n",
    "\n",
    "    for i in range(len(costs)):\n",
    "        dp0 = costs[i][0] + min(dp[1], dp[2])\n",
    "        dp1 = costs[i][1] + min(dp[0], dp[2])\n",
    "        dp2 = costs[i][2] + min(dp[0], dp[1])\n",
    "        dp = [dp0, dp1, dp2]\n",
    "    return min(dp)\n",
    "\n",
    "res = minCost(costs)\n",
    "print(res)"
   ]
  },
  {
   "cell_type": "markdown",
   "metadata": {},
   "source": [
    "# 377 Cominbation Sum IV\n",
    "Given an array of **distinct** integers *nums* and a target integer *target*, return the number of possible combinations that add up to *target*.\n",
    "\n",
    "**Example 1**:\n",
    "    **Input**: nums = [1, 2, 3], target = 4,\n",
    "    **Output**: 7,\n",
    "    **Explanation**:\n",
    "    The possible combination ways are:\n",
    "    (1, 1, 1, 1), (1, 1, 2), (1, 2, 1), (1, 3), (2, 1, 1), (2, 2), (3, 1).\n",
    "    Note that different sequences are counted as different combinations.\n",
    "\n"
   ]
  },
  {
   "cell_type": "markdown",
   "metadata": {},
   "source": [
    "This problem can be solved by backtracking with memorization. The base case is when the current sum (*total* variable is 0), there is only 1 way to sum to target value. The dp equation is dp[total] += dp[total - n for n in nums], the outer loop is to cache each dp[total] for 1 (since 0 is our base case) to target. The decision tree diagram can be found below.\n",
    "\n",
    "<p align=\"center\">\n",
    "  <img src=\"figs/377.png\">\n",
    "  <br>\n",
    "  <em>Decision Tree </em>\n",
    "</p>\n",
    "\n",
    "Let's have a look at the backtracking solution and I will provide the true dynamic programming solution. The solution is drawn from [Neetcode](https://www.youtube.com/watch?v=dw2nMCxG0ik&t=690s)."
   ]
  },
  {
   "cell_type": "code",
   "execution_count": 14,
   "metadata": {},
   "outputs": [
    {
     "name": "stdout",
     "output_type": "stream",
     "text": [
      "7\n"
     ]
    }
   ],
   "source": [
    "nums = [1,2,3]; target = 4\n",
    "\n",
    "def combinationSum4(nums: List[int], target: int) -> int:\n",
    "    dp = {0:1}\n",
    "    def backtrack(total):\n",
    "        if total in dp:\n",
    "            return dp[total]\n",
    "        if total < 0:\n",
    "            return 0\n",
    "        res = 0\n",
    "\n",
    "        for n in nums:\n",
    "            res += backtrack(total - n)\n",
    "        \n",
    "        dp[total] = res\n",
    "        return res\n",
    "        \n",
    "    for total in range(1, target + 1):\n",
    "        res = backtrack(total)\n",
    "\n",
    "    return dp[target]    \n",
    "\n",
    "res = combinationSum4(nums, target)\n",
    "print(res)"
   ]
  },
  {
   "cell_type": "code",
   "execution_count": 15,
   "metadata": {},
   "outputs": [
    {
     "name": "stdout",
     "output_type": "stream",
     "text": [
      "7\n"
     ]
    }
   ],
   "source": [
    "def combinationSum4(nums: List[int], target: int) -> int:\n",
    "    dp = {0: 1}\n",
    "    \n",
    "    for total in range(1, target + 1):\n",
    "        dp[total] = 0\n",
    "        for n in nums:\n",
    "            dp[total] += dp.get(total - n, 0)\n",
    "\n",
    "    return dp[target]\n",
    "\n",
    "res = combinationSum4(nums, target)\n",
    "print(res)"
   ]
  },
  {
   "cell_type": "markdown",
   "metadata": {},
   "source": [
    "# Backtracking problems revision\n",
    "\n",
    "In this section, I revise most **medium** level backtracking problems from [Neetcode.io](https://neetcode.io/practice)."
   ]
  },
  {
   "cell_type": "markdown",
   "metadata": {},
   "source": [
    "## 78. Subsets\n",
    "\n",
    "Given an integer array nums of **unique** elements, return all possible subsets (the power set). The solution set **must not** contain duplicate subsets. Return the solution in **any order**.\n",
    "\n",
    "**Example**\n",
    "\n",
    "**Input**: nums = [1, 2, 3]\n",
    "\n",
    "**output**: [[],[1],[2],[1,2],[3],[1,3],[2,3],[1,2,3]]\n",
    "\n",
    "The decision Tree can be found in \n",
    "<p align=\"center\">\n",
    "  <img src=\"figs/78.png\">\n",
    "  <br>\n",
    "  <em>Decision Tree </em>\n",
    "</p>"
   ]
  },
  {
   "cell_type": "code",
   "execution_count": 16,
   "metadata": {},
   "outputs": [
    {
     "name": "stdout",
     "output_type": "stream",
     "text": [
      "[[1, 2, 3], [1, 2], [1, 3], [1], [2, 3], [2], [3], []]\n"
     ]
    }
   ],
   "source": [
    "nums = [1, 2, 3]\n",
    "\n",
    "def subsets(nums: List[int]) -> List[List[int]]:\n",
    "        \n",
    "    res = []\n",
    "    track = []\n",
    "\n",
    "    def backtrack(i):\n",
    "        if i >= len(nums):\n",
    "            res.append(track.copy())\n",
    "            return\n",
    "\n",
    "        track.append(nums[i])\n",
    "        backtrack(i + 1)\n",
    "        track.pop()\n",
    "        backtrack(i + 1)\n",
    "\n",
    "    backtrack(0)\n",
    "\n",
    "    return res\n",
    "\n",
    "res = subsets(nums)\n",
    "print(res)     \n"
   ]
  },
  {
   "cell_type": "markdown",
   "metadata": {},
   "source": [
    "## 39. Combination Sum\n",
    "\n",
    "Given an array of **distinct** integers *candidates* and a target integer *target*, return a list of all *unique* *combinations* of candidates where the chosen numbers sum to *target*. You may return the combinations in **any order**.\n",
    "\n",
    "The same number may be chosen from *candidates* an **unlimited number of times**. Two combinations are unique if the \n",
    "frequency of at least one of the chosen numbers is different.\n",
    "\n",
    "The test cases are generated such that the number of unique combinations that sum up to target is less than 150 combinations for the given input.\n",
    "\n",
    "**Example**\n",
    "\n",
    "**Input**: candidates = [2,3,6,7], target = 7\n",
    "\n",
    "**Output**: [[2,2,3],[7]]"
   ]
  },
  {
   "cell_type": "code",
   "execution_count": 17,
   "metadata": {},
   "outputs": [
    {
     "name": "stdout",
     "output_type": "stream",
     "text": [
      "[[2, 2, 3], [7]]\n"
     ]
    }
   ],
   "source": [
    "candidates = [2,3,6,7]; target = 7\n",
    "def combinationSum(candidates: List[int], target: int) -> List[List[int]]:\n",
    "\n",
    "    track = []\n",
    "    res = []\n",
    "\n",
    "    def backtrack(i, _sum):\n",
    "        if i >= len(candidates):\n",
    "            return\n",
    "        if _sum > target:\n",
    "            return\n",
    "        if _sum == target:\n",
    "            res.append(track.copy())\n",
    "            return\n",
    "        for j in range(i, len(candidates)):\n",
    "            track.append( candidates[j])\n",
    "            backtrack(j, _sum + candidates[j])\n",
    "            track.pop()\n",
    "            \n",
    "        \n",
    "    backtrack(0, 0)\n",
    "    return res\n",
    "\n",
    "res = combinationSum(candidates, target)\n",
    "print(res)\n"
   ]
  },
  {
   "cell_type": "code",
   "execution_count": 18,
   "metadata": {},
   "outputs": [
    {
     "name": "stdout",
     "output_type": "stream",
     "text": [
      "[[2, 2, 3], [7]]\n"
     ]
    }
   ],
   "source": [
    "def combinationSum_1(candidates: List[int], target: int) -> List[List[int]]:\n",
    "\n",
    "    track = []\n",
    "    res = []\n",
    "\n",
    "    def backtrack(i, _sum):\n",
    "        if i >= len(candidates):\n",
    "            return\n",
    "        if _sum > target:\n",
    "            return\n",
    "        if _sum == target:\n",
    "            res.append(track.copy())\n",
    "            return\n",
    "        val = candidates[i]\n",
    "        track.append(val)\n",
    "        backtrack(i, _sum + val)\n",
    "        track.pop()\n",
    "        backtrack(i + 1, _sum)\n",
    "            \n",
    "        \n",
    "    backtrack(0, 0)\n",
    "    return res\n",
    "\n",
    "res = combinationSum_1(candidates, target)\n",
    "print(res)"
   ]
  },
  {
   "cell_type": "markdown",
   "metadata": {},
   "source": [
    "## 77. Combinations\n",
    "Given two integers *n* and *k*, return all possible combinations of *k* numbers chosen from the range [1, n].\n",
    "\n",
    "You may return the answer in any order.\n",
    "\n",
    "**Example**\n",
    "\n",
    "**Input**: n = 4, k = 2\n",
    "\n",
    "**Output**: [[1,2],[1,3],[1,4],[2,3],[2,4],[3,4]]"
   ]
  },
  {
   "cell_type": "code",
   "execution_count": 19,
   "metadata": {},
   "outputs": [
    {
     "name": "stdout",
     "output_type": "stream",
     "text": [
      "[[1, 2], [1, 3], [1, 4], [2, 3], [2, 4], [3, 4]]\n"
     ]
    }
   ],
   "source": [
    "n = 4; k = 2\n",
    "def combine( n: int, k: int) -> List[List[int]]:\n",
    "    track = []\n",
    "    res = []\n",
    "\n",
    "    def backtrack(i):\n",
    "        if len(track) == k:\n",
    "            res.append(track.copy())\n",
    "            return\n",
    "        for j in range(i, n + 1):\n",
    "            track.append(j)\n",
    "            backtrack(j + 1)\n",
    "            track.pop()\n",
    "        \n",
    "    backtrack(1)\n",
    "    return res\n",
    "\n",
    "res = combine(n, k)\n",
    "print(res)"
   ]
  },
  {
   "cell_type": "markdown",
   "metadata": {},
   "source": [
    "## 46. Permutation\n",
    "\n",
    "Given an array *nums* of **distinct** integers, return all the possible permutations. You can return the answer in **any order**.\n",
    "\n",
    "**Example**:\n",
    "\n",
    "**Input: nums** = [1,2,3]\n",
    "\n",
    "**Output**: [[1,2,3],[1,3,2],[2,1,3],[2,3,1],[3,1,2],[3,2,1]]\n",
    "\n",
    "The time and space complexity of this problem is O(n!) n is the number of element in the nums array"
   ]
  },
  {
   "cell_type": "code",
   "execution_count": 20,
   "metadata": {},
   "outputs": [
    {
     "name": "stdout",
     "output_type": "stream",
     "text": [
      "[[1, 2, 3], [1, 3, 2], [2, 1, 3], [2, 3, 1], [3, 1, 2], [3, 2, 1]]\n"
     ]
    }
   ],
   "source": [
    "nums = [1, 2, 3]\n",
    "def permute(nums: List[int]) -> List[List[int]]:\n",
    "    track = []\n",
    "    res = []\n",
    "   \n",
    "    def backtrack():\n",
    "        if len(track) == len(nums):\n",
    "            res.append(track.copy())\n",
    "            return\n",
    "        \n",
    "        for i, n in enumerate(nums):\n",
    "            if n not in track:\n",
    "                track.append(n)\n",
    "                backtrack()\n",
    "                track.pop()\n",
    "            else:\n",
    "                continue\n",
    "    backtrack()\n",
    "    return res\n",
    "\n",
    "result = permute(nums)\n",
    "print(result)"
   ]
  },
  {
   "cell_type": "markdown",
   "metadata": {},
   "source": [
    "# 90.Subset II\n",
    "\n",
    "Give an interger array *nums* that contains duplicates, return all possible **subsets** (the power set).\n",
    "\n",
    "The solution **must not** contain duplicate subsets. Return the solution in **any order.**\n",
    "\n",
    "**Example 1:**\n",
    "\n",
    "**Input: ** nums = [1, 2, 2]\n",
    "\n",
    "**Output:** [[],[1],[1,2],[1,2,2],[2],[2,2]]\n"
   ]
  },
  {
   "cell_type": "code",
   "execution_count": 21,
   "metadata": {},
   "outputs": [
    {
     "data": {
      "text/plain": [
       "[[1, 2, 2], [1, 2], [1], [2, 2], [2], []]"
      ]
     },
     "execution_count": 21,
     "metadata": {},
     "output_type": "execute_result"
    }
   ],
   "source": [
    "nums = [1, 2, 2]\n",
    "\n",
    "def subsetsWithDup(nums: List[int]) -> List[List[int]]:\n",
    "    track = []\n",
    "    res = []\n",
    "    nums.sort()\n",
    "    \n",
    "    def backtrack(i):\n",
    "        if i == len(nums):\n",
    "            res.append(track.copy())\n",
    "            return\n",
    "        if i > len(nums):\n",
    "            return\n",
    "        \n",
    "        \n",
    "        track.append(nums[i])\n",
    "        backtrack(i + 1)\n",
    "        track.pop()\n",
    "        while i + 1 < len(nums) and nums[i] == nums[i + 1]:\n",
    "            i += 1\n",
    "        backtrack(i + 1)\n",
    "\n",
    "    backtrack(0)\n",
    "    return res\n",
    "res = subsetsWithDup(nums)\n",
    "res"
   ]
  },
  {
   "cell_type": "markdown",
   "metadata": {},
   "source": [
    "# 40. Combination Sum II\n",
    "Given a collection of candidate numbers (*candidates*) and a target number (*target*), find all unique combinations in *candiates* where the candidate numbers sum to *target*.\n",
    "\n",
    "Each number in *candidates* may only be sued **once** in the combination.\n",
    "\n",
    "**Note:** The solution set must not contain duplicate combinations.\n",
    "\n",
    "**Example 1:**\n",
    "\n",
    "**Input:** *candidates* = [10,1,2,7,6,1,5], target = 8\n",
    "\n",
    "**Output:** [[1,1,6], [1,2,5], [1,7], [2,6]]\n"
   ]
  },
  {
   "cell_type": "code",
   "execution_count": 22,
   "metadata": {},
   "outputs": [
    {
     "name": "stdout",
     "output_type": "stream",
     "text": [
      "[[1, 1, 6], [1, 2, 5], [1, 7], [2, 6]]\n"
     ]
    }
   ],
   "source": [
    "candidates = [10,1,2,7,6,1,5]; target = 8\n",
    "\n",
    "def combinationSum2(candidates, target):\n",
    "    res = []\n",
    "    comb = []\n",
    "    candidates.sort()\n",
    "    def backtrack(start, _sum):\n",
    "        if _sum > target:\n",
    "            return \n",
    "        if _sum == target:\n",
    "            res.append(comb.copy())\n",
    "        for i in range(start, len(candidates)):\n",
    "            if i > start and candidates[i] == candidates[i - 1]:\n",
    "                continue\n",
    "            comb.append(candidates[i])\n",
    "            backtrack(i + 1, _sum + candidates[i])\n",
    "            comb.pop()\n",
    "    backtrack(0, 0)\n",
    "    return res\n",
    "res = combinationSum2(candidates, target)\n",
    "print(res)"
   ]
  },
  {
   "cell_type": "markdown",
   "metadata": {},
   "source": [
    "# 47. Permutations II\n",
    "\n",
    "Given a collection of numbers, *nums*, that might contain duplicates, return *all* possible unique permutations in *any order* .\n",
    "\n",
    "**Example 1**\n",
    "\n",
    "**Input**: nums = [1,1,2]\n",
    "\n",
    "**Output**:  [[1,1,2], [1,2,1], [2,1,1]]\n",
    "\n",
    "In this question, we are using a dictionary to index our decision tree such that we won't get any duplicates in the permutation. So good."
   ]
  },
  {
   "cell_type": "code",
   "execution_count": 23,
   "metadata": {},
   "outputs": [
    {
     "name": "stdout",
     "output_type": "stream",
     "text": [
      "[[1, 1, 2], [1, 2, 1], [2, 1, 1]]\n"
     ]
    }
   ],
   "source": [
    "from collections import Counter\n",
    "nums = [1,1,2]\n",
    "def permuteUnique(nums):\n",
    "    count = Counter(nums)\n",
    "    res = []\n",
    "    perm = []\n",
    "    def backtrack():\n",
    "        if len(perm) == len(nums):\n",
    "            res.append(perm.copy())\n",
    "        for i in count:\n",
    "            if count[i] > 0:\n",
    "                perm.append(i)\n",
    "                count[i] -= 1\n",
    "\n",
    "                backtrack()\n",
    "                count[i] += 1\n",
    "                perm.pop()\n",
    "    backtrack()\n",
    "    return res\n",
    "res = permuteUnique(nums)\n",
    "\n",
    "print(res)"
   ]
  },
  {
   "cell_type": "markdown",
   "metadata": {},
   "source": [
    "# 120. Triangle\n",
    "\n",
    "Given a *triangle* array, return the *minimum* path *sum from top to bottom*. For each step, you may move to an adjacent number of the *row* below. More formally, if you are on index *i* on the current row, you may move to either index *i* or index *i + 1* on the next row.\n",
    "\n",
    "**Example 1:**\n",
    "\n",
    "**Input:** triangle = [[2],[3,4],[6,5,7],[4,1,8,3]]\n",
    "\n",
    "**Output:** 11\n"
   ]
  },
  {
   "cell_type": "code",
   "execution_count": 24,
   "metadata": {},
   "outputs": [
    {
     "name": "stdout",
     "output_type": "stream",
     "text": [
      "11\n"
     ]
    }
   ],
   "source": [
    "triangle = [[2],[3,4],[6,5,7],[4,1,8,3]]\n",
    "def minimumTotal(triangle):\n",
    "    dp = [0 for i in range(len(triangle) + 1)]\n",
    "    \n",
    "    for layer in triangle[::-1]:\n",
    "        for i, n in enumerate(layer):\n",
    "            dp[i] = n + min(dp[i], dp[i + 1])\n",
    "    return dp[0]\n",
    "\n",
    "res = minimumTotal(triangle)\n",
    "print(res)\n",
    "        "
   ]
  },
  {
   "cell_type": "markdown",
   "metadata": {},
   "source": [
    "# 79. Word Search\n",
    "\n",
    "Given an *m x n* grid of characters *board* and a string *word*, return *true* if *word* exists in the grid.\n",
    "\n",
    "The word can be constructed from letters of sequentially adjacent cells, where adjacent cells are horizontally or vertically neighboring. The same letter cell may not be used more than once.\n",
    "\n",
    "**Input:** board = [[\"A\",\"B\",\"C\",\"E\"],[\"S\",\"F\",\"C\",\"S\"],[\"A\",\"D\",\"E\",\"E\"]], word = \"ABCCED\"\n",
    "\n",
    "**Output**: True"
   ]
  },
  {
   "cell_type": "code",
   "execution_count": 25,
   "metadata": {},
   "outputs": [
    {
     "name": "stdout",
     "output_type": "stream",
     "text": [
      "True\n"
     ]
    }
   ],
   "source": [
    "board = [[\"A\",\"B\",\"C\",\"E\"],[\"S\",\"F\",\"C\",\"S\"],[\"A\",\"D\",\"E\",\"E\"]]; word = \"ABCCED\"\n",
    "\n",
    "def exist(board: List[List[str]], word: str) -> bool:\n",
    "    rows = len(board)\n",
    "    cols = len(board[0])\n",
    "    visit = set()\n",
    "\n",
    "    def backtrack(r, c, i):\n",
    "        if i == len(word):\n",
    "            return True\n",
    "        if (r not in range(rows) or \n",
    "            c not in range(cols) or \n",
    "            (r, c) in visit or \n",
    "            board[r][c] != word[i]):\n",
    "            return False\n",
    "        \n",
    "\n",
    "        visit.add((r, c))\n",
    "        res = (backtrack(r, c + 1, i + 1) or\n",
    "                backtrack(r, c - 1, i + 1) or\n",
    "                backtrack(r + 1, c, i + 1) or\n",
    "                backtrack(r - 1, c, i + 1))\n",
    "        visit.remove((r,c))\n",
    "        return res\n",
    "    \n",
    "    for r in range(rows):\n",
    "        for c in range(cols):\n",
    "            if backtrack(r, c, 0):\n",
    "                return True\n",
    "    \n",
    "    return False\n",
    "\n",
    "res = exist(board, word)\n",
    "print(res)"
   ]
  },
  {
   "cell_type": "markdown",
   "metadata": {},
   "source": [
    "# 200. Number of islands\n",
    "\n",
    "Given an *m x n* 2D binary grid *grid* which represents a map of *1'*s (land) and *'0'*s (water), return the number of islands.\n",
    "\n",
    "An island is surrounded by water and is formed by connecting adjacent lands horizontally or vertically. You may assume all four edges of the grids are all surrounded by water.\n",
    "\n",
    "**Example 1:**\n",
    "\n",
    "**Input:** grid = [\n",
    "  [\"1\",\"1\",\"1\",\"1\",\"0\"],\n",
    "  [\"1\",\"1\",\"0\",\"1\",\"0\"],\n",
    "  [\"1\",\"1\",\"0\",\"0\",\"0\"],\n",
    "  [\"0\",\"0\",\"0\",\"0\",\"0\"]\n",
    "]\n",
    "\n",
    "\n",
    "**Output:** 1\n",
    "\n",
    "I will first use depth first search to solve this problem and then to show how breadth first search can also be used.\n",
    "\n",
    "The core of this question is to mark the adjacent cells while depth first search or breadth first search. So, this is not a backtracking problem. We use a *set* variable inside the recursion to mark all the adjacent cells with search or inside the while loop for breadth first search."
   ]
  },
  {
   "cell_type": "code",
   "execution_count": 26,
   "metadata": {},
   "outputs": [
    {
     "name": "stdout",
     "output_type": "stream",
     "text": [
      "3\n"
     ]
    }
   ],
   "source": [
    "def numIslands(grid: List[List[str]]) -> int:\n",
    "    if not grid:\n",
    "        return 0\n",
    "    \n",
    "    rows, cols = len(grid), len(grid[0])\n",
    "    res = 0\n",
    "    visit = set()\n",
    "\n",
    "    def dfs(r, c):\n",
    "        if ((r, c) in visit or \n",
    "            r not in range(rows) or\n",
    "            c not in range(cols) or\n",
    "            grid[r][c] != '1'\n",
    "            ):\n",
    "            return\n",
    "        \n",
    "        visit.add((r, c))\n",
    "        dfs(r + 1, c)\n",
    "        dfs(r - 1, c)\n",
    "        dfs(r, c + 1)\n",
    "        dfs(r, c - 1)\n",
    "        \n",
    "        \n",
    "\n",
    "    for r in range(rows):\n",
    "        for c in range(cols):\n",
    "            if grid[r][c] == \"1\" and (r, c) not in visit:\n",
    "                dfs(r, c)\n",
    "                res += 1\n",
    "    return res\n",
    "\n",
    "grid = [[\"1\",\"1\",\"0\",\"0\",\"0\"],[\"1\",\"1\",\"0\",\"0\",\"0\"],[\"0\",\"0\",\"1\",\"0\",\"0\"],[\"0\",\"0\",\"0\",\"1\",\"1\"]]\n",
    "\n",
    "res = numIslands(grid)\n",
    "print(res)"
   ]
  },
  {
   "cell_type": "code",
   "execution_count": 27,
   "metadata": {},
   "outputs": [
    {
     "name": "stdout",
     "output_type": "stream",
     "text": [
      "3\n"
     ]
    }
   ],
   "source": [
    "## Breadth First Search\n",
    "import collections\n",
    "def numIslands(grid: List[List[str]]) -> int:\n",
    "    if not grid:\n",
    "        return 0\n",
    "    \n",
    "    visit = set()\n",
    "    res = 0\n",
    "    rows, cols = len(grid), len(grid[0])\n",
    "\n",
    "    def bfs(r, c):\n",
    "        visit.add((r, c))\n",
    "        q = collections.deque()\n",
    "        q.append((r, c))\n",
    "\n",
    "        while q:\n",
    "            row, col = q.popleft()\n",
    "            directions = [[1, 0], [-1, 0], [0, 1], [0, -1]]\n",
    "            for dr, dc in directions:\n",
    "                if (row+dr) in range(rows) and (col+dc) in range(cols) and grid[row+dr][col+dc] == \"1\" and (row+dr, col+dc) not in visit:\n",
    "                    q.append((row+dr, col+dc))\n",
    "                    visit.add((row + dr, col+dc))\n",
    "\n",
    "    for r in range(rows):\n",
    "        for c in range(cols):\n",
    "            if (r, c) not in visit and grid[r][c] == \"1\":\n",
    "                bfs(r, c)\n",
    "                res += 1\n",
    "    return res\n",
    "\n",
    "num = numIslands(grid)\n",
    "print(num)\n",
    "\n",
    "\n"
   ]
  }
 ],
 "metadata": {
  "kernelspec": {
   "display_name": "torch-ngp",
   "language": "python",
   "name": "python3"
  },
  "language_info": {
   "codemirror_mode": {
    "name": "ipython",
    "version": 3
   },
   "file_extension": ".py",
   "mimetype": "text/x-python",
   "name": "python",
   "nbconvert_exporter": "python",
   "pygments_lexer": "ipython3",
   "version": "3.9.6"
  },
  "orig_nbformat": 4
 },
 "nbformat": 4,
 "nbformat_minor": 2
}
