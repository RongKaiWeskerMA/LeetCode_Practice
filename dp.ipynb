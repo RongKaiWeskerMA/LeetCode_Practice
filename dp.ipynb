{
 "cells": [
  {
   "cell_type": "markdown",
   "metadata": {},
   "source": [
    "# 256 Paint House\n",
    "There is a row of *n* houses, where each house can be painted one of three colors: red, blue, or green. The cost of paiting each house with a certain color is different. You have to paint all the houses such that no two adjacent house have the same color.\n",
    "\n",
    "The cost of paiting each house with a certain color is represented by an *n x 3* cost matrix costs.\n",
    "- For example, costs[0][0] is the cost of paiting house 0 with the color red; costs[1][2] is the cost of painting house 1 with color green, and so on ...\n",
    "\n",
    "Return the minimum of cost to paint all houses.\n"
   ]
  },
  {
   "cell_type": "markdown",
   "metadata": {},
   "source": [
    "This following method is drawn from [Neetcode solution](https://www.youtube.com/watch?v=-w67-4tnH5U). I just summarize it and make it easier for me to revise.\n",
    "\n",
    "Let's fill a 2D dynamic programming table from top left to bottom right with the example below.\n",
    "\n",
    "| House/Color | r     | g     | b     |\n",
    "|:-----------:|:-----:|:-----:|:-----:|\n",
    "|     0       |  17   |  2    |  17   |\n",
    "|     1       |  18 (16+2)   |  33 (16+17)   |   7 (5 + 2)   |\n",
    "|     2       |  21 (14+17)  |  10 (3+7)   |  37 (19 + 18)   |\n",
    "\n",
    "\n",
    "So The minimum cost is 10"
   ]
  },
  {
   "cell_type": "code",
   "execution_count": 1,
   "metadata": {},
   "outputs": [
    {
     "name": "stdout",
     "output_type": "stream",
     "text": [
      "10\n"
     ]
    }
   ],
   "source": [
    "from typing import List\n",
    "\n",
    "costs = [[17, 2, 17], [16, 16, 5], [14, 3, 19]]\n",
    "\n",
    "def minCost(cost: List[List[int]]) -> int:\n",
    "    dp = [0, 0, 0]\n",
    "\n",
    "    for i in range(len(costs)):\n",
    "        dp0 = costs[i][0] + min(dp[1], dp[2])\n",
    "        dp1 = costs[i][1] + min(dp[0], dp[2])\n",
    "        dp2 = costs[i][2] + min(dp[0], dp[1])\n",
    "        dp = [dp0, dp1, dp2]\n",
    "    return min(dp)\n",
    "\n",
    "res = minCost(costs)\n",
    "print(res)"
   ]
  },
  {
   "cell_type": "markdown",
   "metadata": {},
   "source": [
    "# 377 Cominbation Sum IV\n",
    "Given an array of **distinct** integers *nums* and a target integer *target*, return the number of possible combinations that add up to *target*.\n",
    "\n",
    "**Example 1**:\n",
    "    **Input**: nums = [1, 2, 3], target = 4,\n",
    "    **Output**: 7,\n",
    "    **Explanation**:\n",
    "    The possible combination ways are:\n",
    "    (1, 1, 1, 1), (1, 1, 2), (1, 2, 1), (1, 3), (2, 1, 1), (2, 2), (3, 1).\n",
    "    Note that different sequences are counted as different combinations.\n",
    "\n"
   ]
  },
  {
   "cell_type": "markdown",
   "metadata": {},
   "source": [
    "This problem can be solved by backtracking with memorization. The base case is when the current sum (*total* variable is 0), there is only 1 way to sum to target value. The dp equation is dp[total] += dp[total - n for n in nums], the outer loop is to cache each dp[total] for 1 (since 0 is our base case) to target. The decision tree diagram can be found below.\n",
    "\n",
    "<p align=\"center\">\n",
    "  <img src=\"figs/377.png\">\n",
    "  <br>\n",
    "  <em>Decision Tree </em>\n",
    "</p>\n",
    "\n",
    "Let's have a look at the backtracking solution and I will provide the true dynamic programming solution. The solution is drawn from [Neetcode](https://www.youtube.com/watch?v=dw2nMCxG0ik&t=690s)."
   ]
  },
  {
   "cell_type": "code",
   "execution_count": 2,
   "metadata": {},
   "outputs": [
    {
     "name": "stdout",
     "output_type": "stream",
     "text": [
      "7\n"
     ]
    }
   ],
   "source": [
    "nums = [1,2,3]; target = 4\n",
    "\n",
    "def combinationSum4(nums: List[int], target: int) -> int:\n",
    "    dp = {0:1}\n",
    "    def backtrack(total):\n",
    "        if total in dp:\n",
    "            return dp[total]\n",
    "        if total < 0:\n",
    "            return 0\n",
    "        res = 0\n",
    "\n",
    "        for n in nums:\n",
    "            res += backtrack(total - n)\n",
    "        \n",
    "        dp[total] = res\n",
    "        return res\n",
    "        \n",
    "    for total in range(1, target + 1):\n",
    "        res = backtrack(total)\n",
    "\n",
    "    return dp[target]    \n",
    "\n",
    "res = combinationSum4(nums, target)\n",
    "print(res)"
   ]
  },
  {
   "cell_type": "code",
   "execution_count": 3,
   "metadata": {},
   "outputs": [
    {
     "name": "stdout",
     "output_type": "stream",
     "text": [
      "7\n"
     ]
    }
   ],
   "source": [
    "def combinationSum4(nums: List[int], target: int) -> int:\n",
    "    dp = {0: 1}\n",
    "    \n",
    "    for total in range(1, target + 1):\n",
    "        dp[total] = 0\n",
    "        for n in nums:\n",
    "            dp[total] += dp.get(total - n, 0)\n",
    "\n",
    "    return dp[target]\n",
    "\n",
    "res = combinationSum4(nums, target)\n",
    "print(res)"
   ]
  },
  {
   "cell_type": "markdown",
   "metadata": {},
   "source": [
    "# Backtracking problems revision\n",
    "\n",
    "In this section, I revise most **medium** level backtracking problems from [Neetcode.io](https://neetcode.io/practice)."
   ]
  },
  {
   "cell_type": "markdown",
   "metadata": {},
   "source": [
    "## 78. Subsets\n",
    "\n",
    "Given an integer array nums of **unique** elements, return all possible subsets (the power set). The solution set **must not** contain duplicate subsets. Return the solution in **any order**.\n",
    "\n",
    "**Example**\n",
    "\n",
    "**Input**: nums = [1, 2, 3]\n",
    "\n",
    "**output**: [[],[1],[2],[1,2],[3],[1,3],[2,3],[1,2,3]]\n",
    "\n",
    "The decision Tree can be found in \n",
    "<p align=\"center\">\n",
    "  <img src=\"figs/78.png\">\n",
    "  <br>\n",
    "  <em>Decision Tree </em>\n",
    "</p>"
   ]
  },
  {
   "cell_type": "code",
   "execution_count": 4,
   "metadata": {},
   "outputs": [
    {
     "name": "stdout",
     "output_type": "stream",
     "text": [
      "[[1, 2, 3], [1, 2], [1, 3], [1], [2, 3], [2], [3], []]\n"
     ]
    }
   ],
   "source": [
    "nums = [1, 2, 3]\n",
    "\n",
    "def subsets(nums: List[int]) -> List[List[int]]:\n",
    "        \n",
    "    res = []\n",
    "    track = []\n",
    "\n",
    "    def backtrack(i):\n",
    "        if i >= len(nums):\n",
    "            res.append(track.copy())\n",
    "            return\n",
    "\n",
    "        track.append(nums[i])\n",
    "        backtrack(i + 1)\n",
    "        track.pop()\n",
    "        backtrack(i + 1)\n",
    "\n",
    "    backtrack(0)\n",
    "\n",
    "    return res\n",
    "\n",
    "res = subsets(nums)\n",
    "print(res)     \n"
   ]
  },
  {
   "cell_type": "markdown",
   "metadata": {},
   "source": [
    "## 39. Combination Sum\n",
    "\n",
    "Given an array of **distinct** integers *candidates* and a target integer *target*, return a list of all *unique* *combinations* of candidates where the chosen numbers sum to *target*. You may return the combinations in **any order**.\n",
    "\n",
    "The same number may be chosen from *candidates* an **unlimited number of times**. Two combinations are unique if the \n",
    "frequency of at least one of the chosen numbers is different.\n",
    "\n",
    "The test cases are generated such that the number of unique combinations that sum up to target is less than 150 combinations for the given input.\n",
    "\n",
    "**Example**\n",
    "\n",
    "**Input**: candidates = [2,3,6,7], target = 7\n",
    "\n",
    "**Output**: [[2,2,3],[7]]"
   ]
  },
  {
   "cell_type": "code",
   "execution_count": 5,
   "metadata": {},
   "outputs": [
    {
     "name": "stdout",
     "output_type": "stream",
     "text": [
      "[[2, 2, 3], [7]]\n"
     ]
    }
   ],
   "source": [
    "candidates = [2,3,6,7]; target = 7\n",
    "def combinationSum(candidates: List[int], target: int) -> List[List[int]]:\n",
    "\n",
    "    track = []\n",
    "    res = []\n",
    "\n",
    "    def backtrack(i, _sum):\n",
    "        if i >= len(candidates):\n",
    "            return\n",
    "        if _sum > target:\n",
    "            return\n",
    "        if _sum == target:\n",
    "            res.append(track.copy())\n",
    "            return\n",
    "        for j in range(i, len(candidates)):\n",
    "            track.append( candidates[j])\n",
    "            backtrack(j, _sum + candidates[j])\n",
    "            track.pop()\n",
    "            \n",
    "        \n",
    "    backtrack(0, 0)\n",
    "    return res\n",
    "\n",
    "res = combinationSum(candidates, target)\n",
    "print(res)\n"
   ]
  },
  {
   "cell_type": "code",
   "execution_count": 6,
   "metadata": {},
   "outputs": [
    {
     "name": "stdout",
     "output_type": "stream",
     "text": [
      "[[2, 2, 3], [7]]\n"
     ]
    }
   ],
   "source": [
    "def combinationSum_1(candidates: List[int], target: int) -> List[List[int]]:\n",
    "\n",
    "    track = []\n",
    "    res = []\n",
    "\n",
    "    def backtrack(i, _sum):\n",
    "        if i >= len(candidates):\n",
    "            return\n",
    "        if _sum > target:\n",
    "            return\n",
    "        if _sum == target:\n",
    "            res.append(track.copy())\n",
    "            return\n",
    "        val = candidates[i]\n",
    "        track.append(val)\n",
    "        backtrack(i, _sum + val)\n",
    "        track.pop()\n",
    "        backtrack(i + 1, _sum)\n",
    "            \n",
    "        \n",
    "    backtrack(0, 0)\n",
    "    return res\n",
    "\n",
    "res = combinationSum_1(candidates, target)\n",
    "print(res)"
   ]
  },
  {
   "cell_type": "markdown",
   "metadata": {},
   "source": [
    "## 77. Combinations\n",
    "Given two integers *n* and *k*, return all possible combinations of *k* numbers chosen from the range [1, n].\n",
    "\n",
    "You may return the answer in any order.\n",
    "\n",
    "**Example**\n",
    "\n",
    "**Input**: n = 4, k = 2\n",
    "\n",
    "**Output**: [[1,2],[1,3],[1,4],[2,3],[2,4],[3,4]]"
   ]
  },
  {
   "cell_type": "code",
   "execution_count": 7,
   "metadata": {},
   "outputs": [
    {
     "name": "stdout",
     "output_type": "stream",
     "text": [
      "[[1, 2], [1, 3], [1, 4], [2, 3], [2, 4], [3, 4]]\n"
     ]
    }
   ],
   "source": [
    "n = 4; k = 2\n",
    "def combine( n: int, k: int) -> List[List[int]]:\n",
    "    track = []\n",
    "    res = []\n",
    "\n",
    "    def backtrack(i):\n",
    "        if len(track) == k:\n",
    "            res.append(track.copy())\n",
    "            return\n",
    "        for j in range(i, n + 1):\n",
    "            track.append(j)\n",
    "            backtrack(j + 1)\n",
    "            track.pop()\n",
    "        \n",
    "    backtrack(1)\n",
    "    return res\n",
    "\n",
    "res = combine(n, k)\n",
    "print(res)"
   ]
  },
  {
   "cell_type": "markdown",
   "metadata": {},
   "source": [
    "## 46. Permutation\n",
    "\n",
    "Given an array *nums* of **distinct** integers, return all the possible permutations. You can return the answer in **any order**.\n",
    "\n",
    "**Example**:\n",
    "\n",
    "**Input: nums** = [1,2,3]\n",
    "\n",
    "**Output**: [[1,2,3],[1,3,2],[2,1,3],[2,3,1],[3,1,2],[3,2,1]]\n",
    "\n",
    "The time and space complexity of this problem is O(n!) n is the number of element in the nums array"
   ]
  },
  {
   "cell_type": "code",
   "execution_count": 11,
   "metadata": {},
   "outputs": [
    {
     "name": "stdout",
     "output_type": "stream",
     "text": [
      "[[1, 2, 3], [1, 3, 2], [2, 1, 3], [2, 3, 1], [3, 1, 2], [3, 2, 1]]\n"
     ]
    }
   ],
   "source": [
    "nums = [1, 2, 3]\n",
    "def permute(nums: List[int]) -> List[List[int]]:\n",
    "    track = []\n",
    "    res = []\n",
    "   \n",
    "    def backtrack():\n",
    "        if len(track) == len(nums):\n",
    "            res.append(track.copy())\n",
    "            return\n",
    "        \n",
    "        for i, n in enumerate(nums):\n",
    "            if n not in track:\n",
    "                track.append(n)\n",
    "                backtrack()\n",
    "                track.pop()\n",
    "            else:\n",
    "                continue\n",
    "    backtrack()\n",
    "    return res\n",
    "\n",
    "result = permute(nums)\n",
    "print(result)"
   ]
  },
  {
   "cell_type": "markdown",
   "metadata": {},
   "source": [
    "# 90.Subset II\n",
    "\n",
    "Give an interger array *nums* that contains duplicates, return all possible **subsets** (the power set).\n",
    "\n",
    "The solution **must not** contain duplicate subsets. Return the solution in **any order.**\n",
    "\n",
    "**Example 1:**\n",
    "\n",
    "**Input: ** nums = [1, 2, 2]\n",
    "\n",
    "**Output:** [[],[1],[1,2],[1,2,2],[2],[2,2]]\n"
   ]
  },
  {
   "cell_type": "code",
   "execution_count": null,
   "metadata": {},
   "outputs": [],
   "source": [
    "nums = [1, 2, 2]\n",
    "\n",
    "def subsetsWithDup(nums: List[int]) -> List[List[int]]:\n",
    "    track = []\n",
    "    res = []\n",
    "    nums.sort()\n",
    "    \n",
    "    def backtrack(i):\n",
    "        if i == len(nums):\n",
    "            res.append(track.copy())\n",
    "            return\n",
    "        if i > len(nums):\n",
    "            return\n",
    "        \n",
    "        \n",
    "        track.append(nums[i])\n",
    "        backtrack(i + 1)\n",
    "        track.pop()\n",
    "        while i + 1 < len(nums) and nums[i] == nums[i + 1]:\n",
    "            i += 1\n",
    "        backtrack(i + 1)\n",
    "\n",
    "    backtrack(0)\n",
    "    return res\n",
    "res = subsetsWithDup(nums)"
   ]
  }
 ],
 "metadata": {
  "kernelspec": {
   "display_name": "torch-ngp",
   "language": "python",
   "name": "python3"
  },
  "language_info": {
   "codemirror_mode": {
    "name": "ipython",
    "version": 3
   },
   "file_extension": ".py",
   "mimetype": "text/x-python",
   "name": "python",
   "nbconvert_exporter": "python",
   "pygments_lexer": "ipython3",
   "version": "3.9.16"
  },
  "orig_nbformat": 4
 },
 "nbformat": 4,
 "nbformat_minor": 2
}
